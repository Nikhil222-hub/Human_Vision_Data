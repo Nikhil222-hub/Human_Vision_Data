{
  "nbformat": 4,
  "nbformat_minor": 0,
  "metadata": {
    "colab": {
      "provenance": [],
      "include_colab_link": true
    },
    "kernelspec": {
      "name": "python3",
      "display_name": "Python 3"
    },
    "language_info": {
      "name": "python"
    }
  },
  "cells": [
    {
      "cell_type": "markdown",
      "metadata": {
        "id": "view-in-github",
        "colab_type": "text"
      },
      "source": [
        "<a href=\"https://colab.research.google.com/github/Nikhil222-hub/Human_Vision_Data/blob/main/home_py.ipynb\" target=\"_parent\"><img src=\"https://colab.research.google.com/assets/colab-badge.svg\" alt=\"Open In Colab\"/></a>"
      ]
    },
    {
      "cell_type": "code",
      "execution_count": null,
      "metadata": {
        "id": "Cp0ttsevL7Mg",
        "colab": {
          "base_uri": "https://localhost:8080/"
        },
        "outputId": "bc42c3c9-acea-42c0-ffa2-05884dc77e63"
      },
      "outputs": [
        {
          "output_type": "stream",
          "name": "stdout",
          "text": [
            "hello world\n"
          ]
        }
      ],
      "source": [
        "print('hello world')"
      ]
    },
    {
      "cell_type": "code",
      "source": [
        "print('hi there\\n')"
      ],
      "metadata": {
        "id": "ZaQM4LtVOu8o",
        "outputId": "022538b3-ee8a-49ef-b8fd-ffb2da828d93",
        "colab": {
          "base_uri": "https://localhost:8080/"
        }
      },
      "execution_count": 1,
      "outputs": [
        {
          "output_type": "stream",
          "name": "stdout",
          "text": [
            "hi there\n",
            "\n"
          ]
        }
      ]
    }
  ]
}